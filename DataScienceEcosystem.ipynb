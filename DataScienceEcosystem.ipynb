{
 "cells": [
  {
   "cell_type": "markdown",
   "id": "b11a5f94-a486-4b8e-9da5-e03804adbb1c",
   "metadata": {},
   "source": [
    "# Data Science Tools and Ecosystem"
   ]
  },
  {
   "cell_type": "markdown",
   "id": "fae6c552-4031-4d1e-bb75-09958c64a4e9",
   "metadata": {},
   "source": [
    "In this notebook, Data Science Tolls and Ecosystem are summarized."
   ]
  },
  {
   "cell_type": "markdown",
   "id": "4e768cdc-6b99-4fc1-999f-17a5bdeceb05",
   "metadata": {},
   "source": [
    "**Objectives:**\n",
    "- Popular languages used in Data Science\n",
    "- Commonly used libraries used by Data Scientists\n",
    "- How to create arithmetic expressions in code cells"
   ]
  },
  {
   "cell_type": "markdown",
   "id": "8aa87bb7-13c8-40e8-8a57-395085989eae",
   "metadata": {},
   "source": [
    "Some of the popular languages that Data Scientists use are:\n",
    "1. SQL\n",
    "2. R\n",
    "3. Python"
   ]
  },
  {
   "cell_type": "markdown",
   "id": "441e144f-9007-432c-9cd6-f823a7066432",
   "metadata": {},
   "source": [
    "Some of the commonly used libraries used by Data Scientists include:\n",
    "1. NumPy\n",
    "2. SciPy\n",
    "3. Pandas"
   ]
  },
  {
   "cell_type": "markdown",
   "id": "16fc6a64-7e16-478d-b9b1-b3fdd85f55ea",
   "metadata": {},
   "source": [
    "|Data Science Tools|\n",
    "|:-:|\n",
    "|RStudio|\n",
    "|Apache Spark|\n",
    "|Apache Hadoop|"
   ]
  },
  {
   "cell_type": "markdown",
   "id": "ba97a9c7-0779-481c-a447-112237ad96b5",
   "metadata": {},
   "source": [
    "### Below are a few examples of evaluating arithmetic expressions in Python"
   ]
  },
  {
   "cell_type": "code",
   "execution_count": 3,
   "id": "22bbcee0-ddec-4796-85bc-1a9822584f30",
   "metadata": {},
   "outputs": [
    {
     "data": {
      "text/plain": [
       "17"
      ]
     },
     "execution_count": 3,
     "metadata": {},
     "output_type": "execute_result"
    }
   ],
   "source": [
    "#This a simple arithmetic expression to multiply then add integers\n",
    "(3*4)+5"
   ]
  },
  {
   "cell_type": "code",
   "execution_count": 4,
   "id": "ecfdc903-88f0-446f-bdd9-24a2bbded09a",
   "metadata": {},
   "outputs": [
    {
     "data": {
      "text/plain": [
       "3.3333333333333335"
      ]
     },
     "execution_count": 4,
     "metadata": {},
     "output_type": "execute_result"
    }
   ],
   "source": [
    "#This will convert 200 minutes to hours by diving by 60\n",
    "200/60"
   ]
  },
  {
   "cell_type": "markdown",
   "id": "5ba43a9e-bbf6-4c5d-980a-4bb95671a02b",
   "metadata": {},
   "source": [
    "## Author\n",
    "Ines Pereira"
   ]
  }
 ],
 "metadata": {
  "kernelspec": {
   "display_name": "Python 3 (ipykernel)",
   "language": "python",
   "name": "python3"
  },
  "language_info": {
   "codemirror_mode": {
    "name": "ipython",
    "version": 3
   },
   "file_extension": ".py",
   "mimetype": "text/x-python",
   "name": "python",
   "nbconvert_exporter": "python",
   "pygments_lexer": "ipython3",
   "version": "3.12.8"
  }
 },
 "nbformat": 4,
 "nbformat_minor": 5
}
